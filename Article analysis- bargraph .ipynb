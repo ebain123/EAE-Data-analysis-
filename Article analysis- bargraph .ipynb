{
 "cells": [
  {
   "cell_type": "markdown",
   "id": "ebb2770e-646e-4c36-864a-d1533b542491",
   "metadata": {},
   "source": [
    "#### Packages"
   ]
  },
  {
   "cell_type": "code",
   "execution_count": 55,
   "id": "280a18e6-10ae-4908-bb9e-536ff35c2283",
   "metadata": {},
   "outputs": [],
   "source": [
    "import pandas as pd\n",
    "import matplotlib.pyplot as plt\n",
    "import numpy as np\n",
    "import seaborn as sns"
   ]
  },
  {
   "cell_type": "markdown",
   "id": "5142f9cb-b422-48c0-b58a-41c9b2fbdce4",
   "metadata": {},
   "source": [
    "##### Data"
   ]
  },
  {
   "cell_type": "code",
   "execution_count": 34,
   "id": "daa29baa-fbb9-4c63-952c-1040754429af",
   "metadata": {},
   "outputs": [
    {
     "data": {
      "text/html": [
       "<div>\n",
       "<style scoped>\n",
       "    .dataframe tbody tr th:only-of-type {\n",
       "        vertical-align: middle;\n",
       "    }\n",
       "\n",
       "    .dataframe tbody tr th {\n",
       "        vertical-align: top;\n",
       "    }\n",
       "\n",
       "    .dataframe thead th {\n",
       "        text-align: right;\n",
       "    }\n",
       "</style>\n",
       "<table border=\"1\" class=\"dataframe\">\n",
       "  <thead>\n",
       "    <tr style=\"text-align: right;\">\n",
       "      <th></th>\n",
       "      <th>Denial technique</th>\n",
       "      <th>claim</th>\n",
       "      <th>year</th>\n",
       "    </tr>\n",
       "  </thead>\n",
       "  <tbody>\n",
       "    <tr>\n",
       "      <th>0</th>\n",
       "      <td>3.01</td>\n",
       "      <td>2.1</td>\n",
       "      <td>2017</td>\n",
       "    </tr>\n",
       "    <tr>\n",
       "      <th>1</th>\n",
       "      <td>5.01</td>\n",
       "      <td>2.1</td>\n",
       "      <td>2015</td>\n",
       "    </tr>\n",
       "    <tr>\n",
       "      <th>2</th>\n",
       "      <td>1.01</td>\n",
       "      <td>2.1</td>\n",
       "      <td>2017</td>\n",
       "    </tr>\n",
       "    <tr>\n",
       "      <th>3</th>\n",
       "      <td>2.01</td>\n",
       "      <td>2.1</td>\n",
       "      <td>2017</td>\n",
       "    </tr>\n",
       "    <tr>\n",
       "      <th>4</th>\n",
       "      <td>5.01</td>\n",
       "      <td>2.1</td>\n",
       "      <td>2014</td>\n",
       "    </tr>\n",
       "    <tr>\n",
       "      <th>...</th>\n",
       "      <td>...</td>\n",
       "      <td>...</td>\n",
       "      <td>...</td>\n",
       "    </tr>\n",
       "    <tr>\n",
       "      <th>308</th>\n",
       "      <td>5.01</td>\n",
       "      <td>5.2</td>\n",
       "      <td>2015</td>\n",
       "    </tr>\n",
       "    <tr>\n",
       "      <th>309</th>\n",
       "      <td>2.01</td>\n",
       "      <td>5.2</td>\n",
       "      <td>2014</td>\n",
       "    </tr>\n",
       "    <tr>\n",
       "      <th>310</th>\n",
       "      <td>1.01</td>\n",
       "      <td>5.3</td>\n",
       "      <td>2017</td>\n",
       "    </tr>\n",
       "    <tr>\n",
       "      <th>311</th>\n",
       "      <td>2.12</td>\n",
       "      <td>5.3</td>\n",
       "      <td>2015</td>\n",
       "    </tr>\n",
       "    <tr>\n",
       "      <th>312</th>\n",
       "      <td>5.01</td>\n",
       "      <td>5.3</td>\n",
       "      <td>2015</td>\n",
       "    </tr>\n",
       "  </tbody>\n",
       "</table>\n",
       "<p>313 rows × 3 columns</p>\n",
       "</div>"
      ],
      "text/plain": [
       "    Denial technique claim  year\n",
       "0               3.01   2.1  2017\n",
       "1               5.01   2.1  2015\n",
       "2               1.01   2.1  2017\n",
       "3               2.01   2.1  2017\n",
       "4               5.01   2.1  2014\n",
       "..               ...   ...   ...\n",
       "308             5.01   5.2  2015\n",
       "309             2.01   5.2  2014\n",
       "310             1.01   5.3  2017\n",
       "311             2.12   5.3  2015\n",
       "312             5.01   5.3  2015\n",
       "\n",
       "[313 rows x 3 columns]"
      ]
     },
     "execution_count": 34,
     "metadata": {},
     "output_type": "execute_result"
    }
   ],
   "source": [
    "df=pd.read_csv(r'C:\\Users\\61406\\Dropbox\\PYTHON\\Misinformation_data1.csv')\n",
    "df.columns = [col.strip() for col in df.columns.get_level_values(0)]\n",
    "df['claim'] = df['claim'].astype('category')\n",
    "df['Denial technique'] = df['Denial technique'].astype('category')\n",
    "df"
   ]
  },
  {
   "cell_type": "markdown",
   "id": "3fcec9af-1fbe-4f29-95a8-58ff4117d06e",
   "metadata": {},
   "source": [
    "#### Group Data \n"
   ]
  },
  {
   "cell_type": "code",
   "execution_count": 35,
   "id": "c3de9765-afa9-452e-ae64-3e542afd737a",
   "metadata": {},
   "outputs": [
    {
     "name": "stdout",
     "output_type": "stream",
     "text": [
      "Year 2017:\n",
      "claim\n",
      "2.1    0.106061\n",
      "5.1    0.272727\n",
      "5.2    0.590909\n",
      "5.3    0.030303\n",
      "Name: count, dtype: float64\n",
      "\n",
      "Year 2015:\n",
      "claim\n",
      "2.1    0.086957\n",
      "5.1    0.250000\n",
      "5.2    0.619565\n",
      "5.3    0.043478\n",
      "Name: count, dtype: float64\n",
      "\n",
      "Year 2014:\n",
      "claim\n",
      "2.1    0.033708\n",
      "5.1    0.191011\n",
      "5.2    0.775281\n",
      "5.3    0.000000\n",
      "Name: count, dtype: float64\n",
      "\n",
      "Year 2023:\n",
      "claim\n",
      "2.1    0.015152\n",
      "5.1    0.454545\n",
      "5.2    0.530303\n",
      "5.3    0.000000\n",
      "Name: count, dtype: float64\n",
      "\n"
     ]
    }
   ],
   "source": [
    "\n",
    "# Get unique years in the dataset\n",
    "unique_years = df['year'].unique()\n",
    "\n",
    "# Dictionary to store claim proportions for each year\n",
    "claim_proportions_by_year = {}\n",
    "\n",
    "# Iterate over each year\n",
    "for year in unique_years:\n",
    "    # Filter the DataFrame for the current year\n",
    "    df_year = df[df['year'] == year]\n",
    "    \n",
    "    # Count the total number of claims within the current year\n",
    "    total_claims_year = df_year['claim'].count()\n",
    "    \n",
    "    # Calculate proportions for each claim type within the current year\n",
    "    claim_proportions_year = df_year['claim'].value_counts() / total_claims_year\n",
    "    \n",
    "    # Sort claim proportions by claim types\n",
    "    claim_proportions_year_sorted = claim_proportions_year.sort_index()\n",
    "    \n",
    "    # Store claim proportions for the current year\n",
    "    claim_proportions_by_year[year] = claim_proportions_year_sorted\n",
    "\n",
    "# Print claim proportions for each year\n",
    "for year, proportions in claim_proportions_by_year.items():\n",
    "    print(f\"Year {year}:\")\n",
    "    print(proportions)\n",
    "    print()\n"
   ]
  },
  {
   "cell_type": "markdown",
   "id": "55d5fcc1-2d87-4e13-a6cb-7fa420383583",
   "metadata": {},
   "source": [
    "#### Plot Data"
   ]
  },
  {
   "cell_type": "code",
   "execution_count": 70,
   "id": "ae08517d-c1ba-4b7d-8ea8-c241e48f5504",
   "metadata": {},
   "outputs": [
    {
     "data": {
      "image/png": "[encoded data removed]",
      "text/plain": [
       "<Figure size 1000x600 with 1 Axes>"
      ]
     },
     "metadata": {},
     "output_type": "display_data"
    },
    {
     "data": {
      "text/plain": [
       "<Figure size 640x480 with 0 Axes>"
      ]
     },
     "metadata": {},
     "output_type": "display_data"
    }
   ],
   "source": [
    "# Specify the desired order of years\n",
    "desired_order = [2014, 2015, 2017, 2023]  # Example order, change as needed\n",
    "\n",
    "# Get unique years in the dataset and sort them in the desired order\n",
    "unique_years = sorted(df['year'].unique(), key=lambda x: desired_order.index(x))\n",
    "\n",
    "# Dictionary to store claim proportions for each year\n",
    "claim_proportions_by_year = {}\n",
    "\n",
    "# Iterate over each year\n",
    "for year in unique_years:\n",
    "    # Filter the DataFrame for the current year\n",
    "    df_year = df[df['year'] == year]\n",
    "    \n",
    "    # Count the total number of claims within the current year\n",
    "    total_claims_year = df_year['claim'].count()\n",
    "    \n",
    "    # Calculate proportions for each claim type within the current year\n",
    "    claim_proportions_year = df_year['claim'].value_counts() / total_claims_year\n",
    "    \n",
    "    # Sort claim proportions by claim types\n",
    "    claim_proportions_year_sorted = claim_proportions_year.sort_index()\n",
    "    \n",
    "    # Store claim proportions for the current year\n",
    "    claim_proportions_by_year[year] = claim_proportions_year_sorted\n",
    "\n",
    "# Plotting\n",
    "fig, ax = plt.subplots(figsize=(10, 6))\n",
    "\n",
    "# Define bar width\n",
    "bar_width = 0.2\n",
    "\n",
    "# Define offset for each bar group\n",
    "offset = np.arange(len(claim_proportions_by_year[next(iter(claim_proportions_by_year))]))\n",
    "\n",
    "# Define colors for each year\n",
    "colors = ['skyblue','pink', 'green', 'orange']\n",
    "\n",
    "# Iterate over each year and plot bars\n",
    "for i, (year, proportions) in enumerate(claim_proportions_by_year.items()):\n",
    "    ax.bar(offset + i * bar_width, proportions.values, bar_width, label=year, color=colors[i])\n",
    "\n",
    "ax.set_xlabel('Claims')\n",
    "ax.set_ylabel('Proportion')\n",
    "ax.set_title('Proportions of Claims by Year')\n",
    "ax.legend()\n",
    "\n",
    "plt.xticks(offset + (len(unique_years) - 1) * 0.5 * bar_width, proportions.index, rotation=0)  # Set x-axis tick labels horizontal\n",
    "ax.set_xticklabels(['Natural Cycles', 'Science is Unreliable', 'Movement is Unreliable', 'Climate is a Conspiracy'])  # Set x-axis tick labels horizontal\n",
    "plt.xticks(rotation=45)\n",
    "plt.tight_layout()\n",
    "plt.show()\n",
    "\n",
    "plt.savefig('proportions_of_claims.png')"
   ]
  },
  {
   "cell_type": "code",
   "execution_count": null,
   "id": "c25bd564-b8b6-4c04-968c-618885a63609",
   "metadata": {},
   "outputs": [],
   "source": []
  }
 ],
 "metadata": {
  "kernelspec": {
   "display_name": "Python 3 (ipykernel)",
   "language": "python",
   "name": "python3"
  },
  "language_info": {
   "codemirror_mode": {
    "name": "ipython",
    "version": 3
   },
   "file_extension": ".py",
   "mimetype": "text/x-python",
   "name": "python",
   "nbconvert_exporter": "python",
   "pygments_lexer": "ipython3",
   "version": "3.12.2"
  }
 },
 "nbformat": 4,
 "nbformat_minor": 5
}
